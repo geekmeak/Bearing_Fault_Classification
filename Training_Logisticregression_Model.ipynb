{
 "cells": [
  {
   "cell_type": "code",
   "execution_count": 62,
   "metadata": {},
   "outputs": [],
   "source": [
    "\n",
    "import pandas as pd\n",
    "import numpy as np\n",
    "from sklearn.model_selection import train_test_split\n",
    "from sklearn.preprocessing import StandardScaler\n",
    "from sklearn.model_selection import GridSearchCV\n",
    "from sklearn.linear_model import LogisticRegression\n",
    "from sklearn.metrics import confusion_matrix,accuracy_score\n",
    "import seaborn as sns\n",
    "import matplotlib.pyplot as plt"
   ]
  },
  {
   "cell_type": "code",
   "execution_count": 63,
   "metadata": {},
   "outputs": [],
   "source": [
    "data_time = pd.read_csv(\"feature_matrix.csv\")\n"
   ]
  },
  {
   "cell_type": "code",
   "execution_count": 64,
   "metadata": {},
   "outputs": [],
   "source": [
    "data_time['fault'] = pd.Categorical(data_time['fault'])"
   ]
  },
  {
   "cell_type": "code",
   "execution_count": 65,
   "metadata": {},
   "outputs": [],
   "source": [
    "train, test = train_test_split(data_time, test_size = None, shuffle = True,\n",
    "                                                    random_state = 324)"
   ]
  },
  {
   "cell_type": "code",
   "execution_count": 66,
   "metadata": {},
   "outputs": [
    {
     "data": {
      "text/plain": [
       "(5589, 7)"
      ]
     },
     "execution_count": 66,
     "metadata": {},
     "output_type": "execute_result"
    }
   ],
   "source": [
    "train.shape"
   ]
  },
  {
   "cell_type": "code",
   "execution_count": 67,
   "metadata": {},
   "outputs": [
    {
     "data": {
      "text/plain": [
       "(1863, 7)"
      ]
     },
     "execution_count": 67,
     "metadata": {},
     "output_type": "execute_result"
    }
   ],
   "source": [
    "test.shape"
   ]
  },
  {
   "cell_type": "code",
   "execution_count": 68,
   "metadata": {},
   "outputs": [
    {
     "data": {
      "text/html": [
       "<div>\n",
       "<style scoped>\n",
       "    .dataframe tbody tr th:only-of-type {\n",
       "        vertical-align: middle;\n",
       "    }\n",
       "\n",
       "    .dataframe tbody tr th {\n",
       "        vertical-align: top;\n",
       "    }\n",
       "\n",
       "    .dataframe thead th {\n",
       "        text-align: right;\n",
       "    }\n",
       "</style>\n",
       "<table border=\"1\" class=\"dataframe\">\n",
       "  <thead>\n",
       "    <tr style=\"text-align: right;\">\n",
       "      <th></th>\n",
       "      <th>mean</th>\n",
       "      <th>rms</th>\n",
       "      <th>peak_to_peak</th>\n",
       "      <th>skewness</th>\n",
       "      <th>kurtosis</th>\n",
       "      <th>crest_factor</th>\n",
       "      <th>fault</th>\n",
       "    </tr>\n",
       "  </thead>\n",
       "  <tbody>\n",
       "    <tr>\n",
       "      <th>1763</th>\n",
       "      <td>-0.118459</td>\n",
       "      <td>0.156843</td>\n",
       "      <td>1.313</td>\n",
       "      <td>-0.012711</td>\n",
       "      <td>1.032708</td>\n",
       "      <td>3.315416</td>\n",
       "      <td>normal</td>\n",
       "    </tr>\n",
       "    <tr>\n",
       "      <th>4697</th>\n",
       "      <td>-0.113892</td>\n",
       "      <td>0.139754</td>\n",
       "      <td>1.018</td>\n",
       "      <td>-0.017165</td>\n",
       "      <td>2.178904</td>\n",
       "      <td>2.389918</td>\n",
       "      <td>roller</td>\n",
       "    </tr>\n",
       "    <tr>\n",
       "      <th>3600</th>\n",
       "      <td>-0.114604</td>\n",
       "      <td>0.160179</td>\n",
       "      <td>1.211</td>\n",
       "      <td>0.058930</td>\n",
       "      <td>0.671178</td>\n",
       "      <td>3.340015</td>\n",
       "      <td>inner</td>\n",
       "    </tr>\n",
       "    <tr>\n",
       "      <th>7354</th>\n",
       "      <td>-0.002369</td>\n",
       "      <td>0.155343</td>\n",
       "      <td>1.828</td>\n",
       "      <td>-0.128276</td>\n",
       "      <td>2.616981</td>\n",
       "      <td>5.497523</td>\n",
       "      <td>outer</td>\n",
       "    </tr>\n",
       "    <tr>\n",
       "      <th>3290</th>\n",
       "      <td>-0.114203</td>\n",
       "      <td>0.163915</td>\n",
       "      <td>1.958</td>\n",
       "      <td>0.025229</td>\n",
       "      <td>1.163837</td>\n",
       "      <td>5.344221</td>\n",
       "      <td>inner</td>\n",
       "    </tr>\n",
       "  </tbody>\n",
       "</table>\n",
       "</div>"
      ],
      "text/plain": [
       "          mean       rms  peak_to_peak  skewness  kurtosis  crest_factor  \\\n",
       "1763 -0.118459  0.156843         1.313 -0.012711  1.032708      3.315416   \n",
       "4697 -0.113892  0.139754         1.018 -0.017165  2.178904      2.389918   \n",
       "3600 -0.114604  0.160179         1.211  0.058930  0.671178      3.340015   \n",
       "7354 -0.002369  0.155343         1.828 -0.128276  2.616981      5.497523   \n",
       "3290 -0.114203  0.163915         1.958  0.025229  1.163837      5.344221   \n",
       "\n",
       "       fault  \n",
       "1763  normal  \n",
       "4697  roller  \n",
       "3600   inner  \n",
       "7354   outer  \n",
       "3290   inner  "
      ]
     },
     "execution_count": 68,
     "metadata": {},
     "output_type": "execute_result"
    }
   ],
   "source": [
    "train.head()"
   ]
  },
  {
   "cell_type": "code",
   "execution_count": 70,
   "metadata": {},
   "outputs": [
    {
     "data": {
      "text/plain": [
       "normal    1646\n",
       "roller    1616\n",
       "inner     1602\n",
       "outer      725\n",
       "Name: fault, dtype: int64"
      ]
     },
     "execution_count": 70,
     "metadata": {},
     "output_type": "execute_result"
    }
   ],
   "source": [
    "train['fault'].value_counts()"
   ]
  },
  {
   "cell_type": "code",
   "execution_count": 71,
   "metadata": {},
   "outputs": [
    {
     "data": {
      "text/plain": [
       "inner     554\n",
       "roller    540\n",
       "normal    510\n",
       "outer     259\n",
       "Name: fault, dtype: int64"
      ]
     },
     "execution_count": 71,
     "metadata": {},
     "output_type": "execute_result"
    }
   ],
   "source": [
    "test['fault'].value_counts()"
   ]
  },
  {
   "cell_type": "markdown",
   "metadata": {},
   "source": [
    "## Scaling data(standardization)"
   ]
  },
  {
   "cell_type": "code",
   "execution_count": 30,
   "metadata": {},
   "outputs": [],
   "source": [
    "scaler = StandardScaler()\n",
    "train_scaled= scaler.fit_transform(train.iloc[:,:-1])\n",
    "test_scaled = (test.iloc[:,:-1].values - scaler.mean_)/np.sqrt(scaler.var_)"
   ]
  },
  {
   "cell_type": "markdown",
   "metadata": {},
   "source": [
    "## Training Logistic Regression Model"
   ]
  },
  {
   "cell_type": "code",
   "execution_count": 54,
   "metadata": {},
   "outputs": [],
   "source": [
    "logistic_clf = LogisticRegression(C = 10, max_iter = 500, n_jobs = -1)"
   ]
  },
  {
   "cell_type": "code",
   "execution_count": 55,
   "metadata": {},
   "outputs": [
    {
     "data": {
      "text/plain": [
       "LogisticRegression(C=10, max_iter=500, n_jobs=-1)"
      ]
     },
     "execution_count": 55,
     "metadata": {},
     "output_type": "execute_result"
    }
   ],
   "source": [
    "logistic_clf.fit(train_scaled, train['fault'])"
   ]
  },
  {
   "cell_type": "code",
   "execution_count": 56,
   "metadata": {},
   "outputs": [],
   "source": [
    "train_predictions = logistic_clf.predict(train_scaled)\n",
    "test_predictions = logistic_clf.predict(test_scaled)"
   ]
  },
  {
   "cell_type": "markdown",
   "metadata": {},
   "source": [
    "## Confusion Matrices"
   ]
  },
  {
   "cell_type": "code",
   "execution_count": 57,
   "metadata": {},
   "outputs": [],
   "source": [
    "train_confusion_matrix = confusion_matrix(train['fault'], train_predictions)\n",
    "test_confusion_matrix = confusion_matrix(test['fault'], test_predictions)"
   ]
  },
  {
   "cell_type": "markdown",
   "metadata": {},
   "source": [
    "## Acuracy Calculation"
   ]
  },
  {
   "cell_type": "code",
   "execution_count": 58,
   "metadata": {},
   "outputs": [
    {
     "name": "stdout",
     "output_type": "stream",
     "text": [
      "Ovearll training accuracy:  0.7700840937555914\n"
     ]
    }
   ],
   "source": [
    "train_accuracy = accuracy_score(train['fault'], train_predictions)\n",
    "print(\"Ovearll training accuracy: \", train_accuracy)"
   ]
  },
  {
   "cell_type": "code",
   "execution_count": 59,
   "metadata": {},
   "outputs": [
    {
     "name": "stdout",
     "output_type": "stream",
     "text": [
      "Ovearll testing accuracy:  0.775630703166935\n"
     ]
    }
   ],
   "source": [
    "test_accuracy = accuracy_score(test['fault'], test_predictions)\n",
    "print(\"Ovearll testing accuracy: \", test_accuracy)"
   ]
  },
  {
   "cell_type": "markdown",
   "metadata": {},
   "source": [
    "## Heatmap Plot"
   ]
  },
  {
   "cell_type": "code",
   "execution_count": 46,
   "metadata": {},
   "outputs": [
    {
     "data": {
      "image/png": "[encoded data removed]",
      "text/plain": [
       "<Figure size 1296x576 with 4 Axes>"
      ]
     },
     "metadata": {
      "needs_background": "light"
     },
     "output_type": "display_data"
    }
   ],
   "source": [
    "fault_type = ['Normal','Inner','Roller','Outer']\n",
    "plt.figure(1,figsize=(18,8))\n",
    "plt.subplot(121)\n",
    "sns.heatmap(train_confusion_matrix, annot= True,fmt = \"d\",\n",
    "xticklabels=fault_type, yticklabels=fault_type, cmap = \"Blues\")\n",
    "plt.title('Training Confusion Matrix')\n",
    "plt.xlabel('Predicted')\n",
    "plt.ylabel('True')\n",
    "plt.subplot(122)\n",
    "\n",
    "sns.heatmap(train_confusion_matrix/1000, annot= True,\n",
    "xticklabels=fault_type, yticklabels=fault_type, cmap = \"Blues\")\n",
    "plt.title('Training Confusion Matrix (in %age)')\n",
    "plt.xlabel('Predicted')\n",
    "plt.ylabel('True')\n",
    "\n",
    "plt.show()"
   ]
  },
  {
   "cell_type": "code",
   "execution_count": 72,
   "metadata": {},
   "outputs": [
    {
     "data": {
      "image/png": "[encoded data removed]",
      "text/plain": [
       "<Figure size 1296x576 with 4 Axes>"
      ]
     },
     "metadata": {
      "needs_background": "light"
     },
     "output_type": "display_data"
    }
   ],
   "source": [
    "plt.figure(2,figsize=(18,8))\n",
    "plt.subplot(121)\n",
    "sns.heatmap(test_confusion_matrix, annot = True,\n",
    "xticklabels=fault_type, yticklabels=fault_type, cmap = \"Blues\")\n",
    "plt.title('Test Confusion Matrix')\n",
    "plt.xlabel('Predicted')\n",
    "plt.ylabel('True')\n",
    "\n",
    "plt.subplot(122)\n",
    "sns.heatmap(test_confusion_matrix/300, annot = True,\n",
    "xticklabels=fault_type, yticklabels=fault_type, cmap = \"Blues\")\n",
    "plt.title('Test Confusion Matrix (in %age)')\n",
    "plt.xlabel('Predicted')\n",
    "plt.ylabel('True')\n",
    "plt.show()"
   ]
  },
  {
   "cell_type": "code",
   "execution_count": null,
   "metadata": {},
   "outputs": [],
   "source": []
  }
 ],
 "metadata": {
  "kernelspec": {
   "display_name": "Python 3",
   "language": "python",
   "name": "python3"
  },
  "language_info": {
   "codemirror_mode": {
    "name": "ipython",
    "version": 3
   },
   "file_extension": ".py",
   "mimetype": "text/x-python",
   "name": "python",
   "nbconvert_exporter": "python",
   "pygments_lexer": "ipython3",
   "version": "3.8.5"
  }
 },
 "nbformat": 4,
 "nbformat_minor": 4
}
