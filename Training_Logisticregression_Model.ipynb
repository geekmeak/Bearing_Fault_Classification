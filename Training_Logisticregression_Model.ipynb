{
 "cells": [
  {
   "cell_type": "code",
   "execution_count": 62,
   "metadata": {},
   "outputs": [],
   "source": [
    "\n",
    "import pandas as pd\n",
    "import numpy as np\n",
    "from sklearn.model_selection import train_test_split\n",
    "from sklearn.preprocessing import StandardScaler\n",
    "from sklearn.model_selection import GridSearchCV\n",
    "from sklearn.linear_model import LogisticRegression\n",
    "from sklearn.metrics import confusion_matrix,accuracy_score\n",
    "import seaborn as sns\n",
    "import matplotlib.pyplot as plt"
   ]
  },
  {
   "cell_type": "code",
   "execution_count": 97,
   "metadata": {},
   "outputs": [],
   "source": [
    "data_time = pd.read_csv(\"feature_matrix_1500.csv\")\n"
   ]
  },
  {
   "cell_type": "code",
   "execution_count": 98,
   "metadata": {},
   "outputs": [],
   "source": [
    "data_time['fault'] = pd.Categorical(data_time['fault'])"
   ]
  },
  {
   "cell_type": "code",
   "execution_count": 99,
   "metadata": {},
   "outputs": [],
   "source": [
    "train, test = train_test_split(data_time, test_size = None, shuffle = True,\n",
    "                                                    random_state = 324)"
   ]
  },
  {
   "cell_type": "code",
   "execution_count": 100,
   "metadata": {},
   "outputs": [
    {
     "data": {
      "text/plain": [
       "(4113, 7)"
      ]
     },
     "execution_count": 100,
     "metadata": {},
     "output_type": "execute_result"
    }
   ],
   "source": [
    "train.shape"
   ]
  },
  {
   "cell_type": "code",
   "execution_count": 101,
   "metadata": {},
   "outputs": [
    {
     "data": {
      "text/plain": [
       "(1371, 7)"
      ]
     },
     "execution_count": 101,
     "metadata": {},
     "output_type": "execute_result"
    }
   ],
   "source": [
    "test.shape"
   ]
  },
  {
   "cell_type": "code",
   "execution_count": 102,
   "metadata": {},
   "outputs": [
    {
     "data": {
      "text/html": [
       "<div>\n",
       "<style scoped>\n",
       "    .dataframe tbody tr th:only-of-type {\n",
       "        vertical-align: middle;\n",
       "    }\n",
       "\n",
       "    .dataframe tbody tr th {\n",
       "        vertical-align: top;\n",
       "    }\n",
       "\n",
       "    .dataframe thead th {\n",
       "        text-align: right;\n",
       "    }\n",
       "</style>\n",
       "<table border=\"1\" class=\"dataframe\">\n",
       "  <thead>\n",
       "    <tr style=\"text-align: right;\">\n",
       "      <th></th>\n",
       "      <th>mean</th>\n",
       "      <th>rms</th>\n",
       "      <th>peak_to_peak</th>\n",
       "      <th>skewness</th>\n",
       "      <th>kurtosis</th>\n",
       "      <th>crest_factor</th>\n",
       "      <th>fault</th>\n",
       "    </tr>\n",
       "  </thead>\n",
       "  <tbody>\n",
       "    <tr>\n",
       "      <th>2236</th>\n",
       "      <td>-0.114962</td>\n",
       "      <td>0.159740</td>\n",
       "      <td>1.054</td>\n",
       "      <td>0.050770</td>\n",
       "      <td>0.521637</td>\n",
       "      <td>2.673102</td>\n",
       "      <td>inner</td>\n",
       "    </tr>\n",
       "    <tr>\n",
       "      <th>4059</th>\n",
       "      <td>-0.115642</td>\n",
       "      <td>0.173683</td>\n",
       "      <td>2.248</td>\n",
       "      <td>0.054940</td>\n",
       "      <td>4.914969</td>\n",
       "      <td>6.085805</td>\n",
       "      <td>roller</td>\n",
       "    </tr>\n",
       "    <tr>\n",
       "      <th>5176</th>\n",
       "      <td>-0.002074</td>\n",
       "      <td>0.104139</td>\n",
       "      <td>1.067</td>\n",
       "      <td>-0.045320</td>\n",
       "      <td>0.766983</td>\n",
       "      <td>5.089362</td>\n",
       "      <td>outer</td>\n",
       "    </tr>\n",
       "    <tr>\n",
       "      <th>2735</th>\n",
       "      <td>-0.115233</td>\n",
       "      <td>0.170794</td>\n",
       "      <td>4.367</td>\n",
       "      <td>-0.404398</td>\n",
       "      <td>17.316321</td>\n",
       "      <td>11.832960</td>\n",
       "      <td>inner</td>\n",
       "    </tr>\n",
       "    <tr>\n",
       "      <th>679</th>\n",
       "      <td>-0.119218</td>\n",
       "      <td>0.155260</td>\n",
       "      <td>1.160</td>\n",
       "      <td>-0.044038</td>\n",
       "      <td>1.160155</td>\n",
       "      <td>2.801750</td>\n",
       "      <td>normal</td>\n",
       "    </tr>\n",
       "  </tbody>\n",
       "</table>\n",
       "</div>"
      ],
      "text/plain": [
       "          mean       rms  peak_to_peak  skewness   kurtosis  crest_factor  \\\n",
       "2236 -0.114962  0.159740         1.054  0.050770   0.521637      2.673102   \n",
       "4059 -0.115642  0.173683         2.248  0.054940   4.914969      6.085805   \n",
       "5176 -0.002074  0.104139         1.067 -0.045320   0.766983      5.089362   \n",
       "2735 -0.115233  0.170794         4.367 -0.404398  17.316321     11.832960   \n",
       "679  -0.119218  0.155260         1.160 -0.044038   1.160155      2.801750   \n",
       "\n",
       "       fault  \n",
       "2236   inner  \n",
       "4059  roller  \n",
       "5176   outer  \n",
       "2735   inner  \n",
       "679   normal  "
      ]
     },
     "execution_count": 102,
     "metadata": {},
     "output_type": "execute_result"
    }
   ],
   "source": [
    "train.head()"
   ]
  },
  {
   "cell_type": "code",
   "execution_count": 103,
   "metadata": {},
   "outputs": [
    {
     "data": {
      "text/plain": [
       "normal    1143\n",
       "roller    1117\n",
       "inner     1109\n",
       "outer      744\n",
       "Name: fault, dtype: int64"
      ]
     },
     "execution_count": 103,
     "metadata": {},
     "output_type": "execute_result"
    }
   ],
   "source": [
    "train['fault'].value_counts()"
   ]
  },
  {
   "cell_type": "code",
   "execution_count": 104,
   "metadata": {},
   "outputs": [
    {
     "data": {
      "text/plain": [
       "inner     391\n",
       "roller    383\n",
       "normal    357\n",
       "outer     240\n",
       "Name: fault, dtype: int64"
      ]
     },
     "execution_count": 104,
     "metadata": {},
     "output_type": "execute_result"
    }
   ],
   "source": [
    "test['fault'].value_counts()"
   ]
  },
  {
   "cell_type": "markdown",
   "metadata": {},
   "source": [
    "## Scaling data(standardization)"
   ]
  },
  {
   "cell_type": "code",
   "execution_count": 105,
   "metadata": {},
   "outputs": [],
   "source": [
    "scaler = StandardScaler()\n",
    "train_scaled= scaler.fit_transform(train.iloc[:,:-1])\n",
    "test_scaled = (test.iloc[:,:-1].values - scaler.mean_)/np.sqrt(scaler.var_)"
   ]
  },
  {
   "cell_type": "markdown",
   "metadata": {},
   "source": [
    "## Training Logistic Regression Model"
   ]
  },
  {
   "cell_type": "code",
   "execution_count": 106,
   "metadata": {},
   "outputs": [],
   "source": [
    "logistic_clf = LogisticRegression(C = 10, max_iter = 500, n_jobs = -1)"
   ]
  },
  {
   "cell_type": "code",
   "execution_count": 107,
   "metadata": {},
   "outputs": [
    {
     "data": {
      "text/plain": [
       "LogisticRegression(C=10, max_iter=500, n_jobs=-1)"
      ]
     },
     "execution_count": 107,
     "metadata": {},
     "output_type": "execute_result"
    }
   ],
   "source": [
    "logistic_clf.fit(train_scaled, train['fault'])"
   ]
  },
  {
   "cell_type": "code",
   "execution_count": 108,
   "metadata": {},
   "outputs": [],
   "source": [
    "train_predictions = logistic_clf.predict(train_scaled)\n",
    "test_predictions = logistic_clf.predict(test_scaled)"
   ]
  },
  {
   "cell_type": "markdown",
   "metadata": {},
   "source": [
    "## Confusion Matrices"
   ]
  },
  {
   "cell_type": "code",
   "execution_count": 109,
   "metadata": {},
   "outputs": [],
   "source": [
    "train_confusion_matrix = confusion_matrix(train['fault'], train_predictions)\n",
    "test_confusion_matrix = confusion_matrix(test['fault'], test_predictions)"
   ]
  },
  {
   "cell_type": "markdown",
   "metadata": {},
   "source": [
    "## Acuracy Calculation"
   ]
  },
  {
   "cell_type": "code",
   "execution_count": 110,
   "metadata": {
    "scrolled": true
   },
   "outputs": [
    {
     "name": "stdout",
     "output_type": "stream",
     "text": [
      "Ovearll training accuracy:  0.8363724775103331\n"
     ]
    }
   ],
   "source": [
    "train_accuracy = accuracy_score(train['fault'], train_predictions)\n",
    "print(\"Ovearll training accuracy: \", train_accuracy)"
   ]
  },
  {
   "cell_type": "code",
   "execution_count": 111,
   "metadata": {},
   "outputs": [
    {
     "name": "stdout",
     "output_type": "stream",
     "text": [
      "Ovearll testing accuracy:  0.8285922684172137\n"
     ]
    }
   ],
   "source": [
    "test_accuracy = accuracy_score(test['fault'], test_predictions)\n",
    "print(\"Ovearll testing accuracy: \", test_accuracy)"
   ]
  },
  {
   "cell_type": "markdown",
   "metadata": {},
   "source": [
    "## Heatmap Plot"
   ]
  },
  {
   "cell_type": "code",
   "execution_count": 115,
   "metadata": {},
   "outputs": [
    {
     "data": {
      "image/png": "[encoded data removed]",
      "text/plain": [
       "<Figure size 1296x576 with 4 Axes>"
      ]
     },
     "metadata": {
      "needs_background": "light"
     },
     "output_type": "display_data"
    }
   ],
   "source": [
    "fault_type = ['Normal','Inner','Roller','Outer']\n",
    "plt.figure(1,figsize=(18,8))\n",
    "plt.subplot(121)\n",
    "sns.heatmap(train_confusion_matrix, annot= True,fmt = \"d\",\n",
    "xticklabels=fault_type, yticklabels=fault_type, cmap = \"Blues\")\n",
    "plt.title('Training Confusion Matrix')\n",
    "plt.xlabel('Predicted')\n",
    "plt.ylabel('True')\n",
    "plt.subplot(122)\n",
    "\n",
    "sns.heatmap(train_confusion_matrix/1140, annot= True,\n",
    "xticklabels=fault_type, yticklabels=fault_type, cmap = \"Blues\")\n",
    "plt.title('Training Confusion Matrix (in %age)')\n",
    "plt.xlabel('Predicted')\n",
    "plt.ylabel('True')\n",
    "\n",
    "plt.show()"
   ]
  },
  {
   "cell_type": "code",
   "execution_count": 116,
   "metadata": {},
   "outputs": [
    {
     "data": {
      "image/png": "[encoded data removed]",
      "text/plain": [
       "<Figure size 1296x576 with 4 Axes>"
      ]
     },
     "metadata": {
      "needs_background": "light"
     },
     "output_type": "display_data"
    }
   ],
   "source": [
    "plt.figure(2,figsize=(18,8))\n",
    "plt.subplot(121)\n",
    "sns.heatmap(test_confusion_matrix, annot = True,\n",
    "xticklabels=fault_type, yticklabels=fault_type, cmap = \"Blues\")\n",
    "plt.title('Test Confusion Matrix')\n",
    "plt.xlabel('Predicted')\n",
    "plt.ylabel('True')\n",
    "\n",
    "plt.subplot(122)\n",
    "sns.heatmap(test_confusion_matrix/360, annot = True,\n",
    "xticklabels=fault_type, yticklabels=fault_type, cmap = \"Blues\")\n",
    "plt.title('Test Confusion Matrix (in %age)')\n",
    "plt.xlabel('Predicted')\n",
    "plt.ylabel('True')\n",
    "plt.show()"
   ]
  },
  {
   "cell_type": "code",
   "execution_count": null,
   "metadata": {},
   "outputs": [],
   "source": []
  }
 ],
 "metadata": {
  "kernelspec": {
   "display_name": "Python 3",
   "language": "python",
   "name": "python3"
  },
  "language_info": {
   "codemirror_mode": {
    "name": "ipython",
    "version": 3
   },
   "file_extension": ".py",
   "mimetype": "text/x-python",
   "name": "python",
   "nbconvert_exporter": "python",
   "pygments_lexer": "ipython3",
   "version": "3.8.5"
  }
 },
 "nbformat": 4,
 "nbformat_minor": 4
}
