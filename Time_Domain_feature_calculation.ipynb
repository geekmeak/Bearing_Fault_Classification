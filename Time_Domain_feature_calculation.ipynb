{
 "cells": [
  {
   "cell_type": "code",
   "execution_count": 1,
   "metadata": {},
   "outputs": [],
   "source": [
    "import numpy as np\n",
    "import pandas as pd"
   ]
  },
  {
   "cell_type": "code",
   "execution_count": 2,
   "metadata": {},
   "outputs": [],
   "source": [
    "test1 = \"C:/Users/ashees/Desktop/IMS/1st_test\""
   ]
  },
  {
   "cell_type": "code",
   "execution_count": 3,
   "metadata": {},
   "outputs": [],
   "source": [
    "test2 = \"C:/Users/ashees/Desktop/IMS/2nd_test\""
   ]
  },
  {
   "cell_type": "code",
   "execution_count": 4,
   "metadata": {},
   "outputs": [],
   "source": [
    "import os\n",
    "import glob\n",
    "import itertools"
   ]
  },
  {
   "cell_type": "code",
   "execution_count": 5,
   "metadata": {},
   "outputs": [
    {
     "name": "stdout",
     "output_type": "stream",
     "text": [
      "Total number of files inn test1:  2156\n",
      "Total number of files inn test1:  984\n"
     ]
    }
   ],
   "source": [
    "test1_file = glob.glob(test1 + \"/*\")\n",
    "print(\"Total number of files inn test1: \", len(test1_file))\n",
    "test2_file = glob.glob(test2 + \"/*\")\n",
    "print(\"Total number of files inn test1: \", len(test2_file))"
   ]
  },
  {
   "cell_type": "code",
   "execution_count": 6,
   "metadata": {},
   "outputs": [],
   "source": [
    "T1 = []\n",
    "for i in range(len(test1_file)):\n",
    "    \n",
    "    temp = pd.read_csv(test1_file[i], sep='\\s+', header=None)\n",
    "    T1.append(temp)"
   ]
  },
  {
   "cell_type": "code",
   "execution_count": 7,
   "metadata": {},
   "outputs": [],
   "source": [
    "T2 = []\n",
    "for i in range(len(test2_file)):\n",
    "    \n",
    "    temp = pd.read_csv(test2_file[i], sep='\\s+', header=None)\n",
    "    T2.append(temp)"
   ]
  },
  {
   "cell_type": "markdown",
   "metadata": {},
   "source": [
    "## Features  "
   ]
  },
  {
   "cell_type": "code",
   "execution_count": 8,
   "metadata": {},
   "outputs": [],
   "source": [
    "def skewness(x):\n",
    "    \"\"\"Calculate skewness taking x as input.\"\"\"\n",
    "    N = len(x)\n",
    "    third_moment = np.sum((x - np.mean(x))**3) / N\n",
    "    s_3 = np.std(x, ddof = 1) ** 3\n",
    "    return third_moment/s_3"
   ]
  },
  {
   "cell_type": "code",
   "execution_count": 9,
   "metadata": {},
   "outputs": [],
   "source": [
    "def kurtosis(x):\n",
    "    \"\"\"Calculate Kurtosis taking x as input\"\"\"\n",
    "    N = len(x)\n",
    "    fourth_moment = np.sum((x - np.mean(x))**4) / N\n",
    "    s_4 = np.std(x, ddof = 1) ** 4\n",
    "    return fourth_moment / s_4 - 3"
   ]
  },
  {
   "cell_type": "code",
   "execution_count": null,
   "metadata": {},
   "outputs": [],
   "source": []
  },
  {
   "cell_type": "code",
   "execution_count": 10,
   "metadata": {},
   "outputs": [],
   "source": [
    "mean_normal = [] \n",
    "mean_inner = []\n",
    "mean_roller = []\n",
    "mean_outer = []\n",
    "\n",
    "rms_normal = []\n",
    "rms_inner = []\n",
    "rms_roller = []\n",
    "rms_outer = []\n",
    "\n",
    "pp_normal = []\n",
    "pp_inner = []\n",
    "pp_roller = []\n",
    "pp_outer = []\n",
    "\n",
    "crest_normal = [] \n",
    "crest_inner = []\n",
    "crest_roller = []\n",
    "crest_outer = []\n",
    "\n",
    "\n",
    "for i in range(len(T1)):\n",
    "    temp_mean = T1[i].mean()\n",
    "    temp_rms = np.sqrt((T1[i] **2).mean())\n",
    "    temp_max = np.max(T1[i])\n",
    "    temp_min = np.min(T1[i])\n",
    "    temp_pp = temp_max - temp_min\n",
    "    crest_temp =  temp_max/temp_rms\n",
    "    \n",
    "    mean_normal.append(temp_mean[0])\n",
    "    mean_inner.append(temp_mean[4])\n",
    "    mean_roller.append(temp_mean[6])\n",
    "    \n",
    "    rms_normal.append(temp_rms[0])\n",
    "    rms_inner.append(temp_rms[4])\n",
    "    rms_roller.append(temp_rms[6])\n",
    "    \n",
    "    pp_normal.append(temp_pp[0])\n",
    "    pp_inner.append(temp_pp[4])\n",
    "    pp_roller.append(temp_pp[6])\n",
    "    \n",
    "    crest_normal.append(crest_temp[0])\n",
    "    crest_inner.append(crest_temp[4])\n",
    "    crest_roller.append(crest_temp[6])"
   ]
  },
  {
   "cell_type": "code",
   "execution_count": 11,
   "metadata": {},
   "outputs": [],
   "source": [
    "\n",
    "skw_normal = []\n",
    "skw_inner = []\n",
    "skw_roller = []\n",
    "skw_outer = []\n",
    "\n",
    "kurt_normal = []\n",
    "kurt_inner = []\n",
    "kurt_roller = []\n",
    "kurt_outer = []\n",
    "\n",
    "for i in range(len(T1)):\n",
    "   \n",
    "    temp_sk = skewness(T1[i])\n",
    "    temp_k = kurtosis(T1[i])\n",
    "    \n",
    "    skw_normal.append(temp_sk[0])\n",
    "    skw_inner.append(temp_sk[4])\n",
    "    skw_roller.append(temp_sk[6])\n",
    "    \n",
    "    kurt_normal.append(temp_k[0])\n",
    "    kurt_inner.append(temp_k[4])\n",
    "    kurt_roller.append(temp_k[6])\n",
    "    "
   ]
  },
  {
   "cell_type": "code",
   "execution_count": 12,
   "metadata": {},
   "outputs": [],
   "source": [
    "mean_outer = []\n",
    "rms_outer = []\n",
    "pp_outer = []\n",
    "skw_outer = []\n",
    "kurt_outer = []\n",
    "crest_outer = []\n",
    "\n",
    "for i in range(len(T2)):\n",
    "    temp_mean = T2[i].mean()\n",
    "    temp_rms = np.sqrt((T2[i] **2).mean())\n",
    "    temp_max = np.max(T2[i])\n",
    "    temp_min = np.min(T2[i])\n",
    "    temp_pp = temp_max - temp_min\n",
    "    crest_temp =  temp_max/temp_rms\n",
    "    temp_sk = skewness(T2[i])\n",
    "    temp_k = kurtosis(T2[i])\n",
    "    \n",
    "    mean_outer.append(temp_mean[0])\n",
    "    rms_outer.append(temp_rms[0])\n",
    "    pp_outer.append(temp_pp[0])\n",
    "    skw_outer.append(temp_sk[0])\n",
    "    kurt_outer.append(temp_k[0])\n",
    "    crest_outer.append(crest_temp[0])"
   ]
  },
  {
   "cell_type": "code",
   "execution_count": 26,
   "metadata": {},
   "outputs": [],
   "source": [
    "fault = ['normal'] * len(mean_normal)\n",
    "\n",
    "Normal = pd.DataFrame(list(zip(mean_normal, rms_normal,pp_normal,skw_normal,kurt_normal,crest_normal,fault)), \n",
    "               columns =['mean', 'rms', 'peak_to_peak', 'skewness', 'kurtosis', 'crest_factor', 'fault']) "
   ]
  },
  {
   "cell_type": "code",
   "execution_count": 27,
   "metadata": {},
   "outputs": [],
   "source": [
    "fault = ['inner'] * len(mean_inner)\n",
    "\n",
    "Inner = pd.DataFrame(list(zip(mean_inner, rms_inner,pp_inner,skw_inner,kurt_inner,crest_inner,fault)), \n",
    "               columns =['mean', 'rms', 'peak_to_peak', 'skewness', 'kurtosis', 'crest_factor', 'fault']) "
   ]
  },
  {
   "cell_type": "code",
   "execution_count": 28,
   "metadata": {},
   "outputs": [],
   "source": [
    "fault = ['roller'] * len(mean_roller)\n",
    "\n",
    "Roller = pd.DataFrame(list(zip(mean_roller, rms_roller,pp_roller,skw_roller,kurt_roller,crest_roller,fault)), \n",
    "               columns =['mean', 'rms', 'peak_to_peak', 'skewness', 'kurtosis', 'crest_factor', 'fault']) "
   ]
  },
  {
   "cell_type": "code",
   "execution_count": 29,
   "metadata": {},
   "outputs": [],
   "source": [
    "fault = ['outer'] * len(mean_outer)\n",
    "\n",
    "Outer = pd.DataFrame(list(zip(mean_outer, rms_outer,pp_outer,skw_outer,kurt_outer,crest_outer,fault)), \n",
    "               columns =['mean', 'rms', 'peak_to_peak', 'skewness', 'kurtosis', 'crest_factor', 'fault']) "
   ]
  },
  {
   "cell_type": "code",
   "execution_count": 30,
   "metadata": {},
   "outputs": [],
   "source": [
    "frames = [Normal,Inner, Roller,Outer]\n",
    "\n",
    "features = pd.concat(frames)"
   ]
  },
  {
   "cell_type": "raw",
   "metadata": {},
   "source": [
    "features.head()"
   ]
  },
  {
   "cell_type": "code",
   "execution_count": 31,
   "metadata": {},
   "outputs": [
    {
     "data": {
      "text/plain": [
       "(7452, 7)"
      ]
     },
     "execution_count": 31,
     "metadata": {},
     "output_type": "execute_result"
    }
   ],
   "source": [
    "features.shape"
   ]
  },
  {
   "cell_type": "code",
   "execution_count": 32,
   "metadata": {},
   "outputs": [
    {
     "data": {
      "text/html": [
       "<div>\n",
       "<style scoped>\n",
       "    .dataframe tbody tr th:only-of-type {\n",
       "        vertical-align: middle;\n",
       "    }\n",
       "\n",
       "    .dataframe tbody tr th {\n",
       "        vertical-align: top;\n",
       "    }\n",
       "\n",
       "    .dataframe thead th {\n",
       "        text-align: right;\n",
       "    }\n",
       "</style>\n",
       "<table border=\"1\" class=\"dataframe\">\n",
       "  <thead>\n",
       "    <tr style=\"text-align: right;\">\n",
       "      <th></th>\n",
       "      <th>mean</th>\n",
       "      <th>rms</th>\n",
       "      <th>peak_to_peak</th>\n",
       "      <th>skewness</th>\n",
       "      <th>kurtosis</th>\n",
       "      <th>crest_factor</th>\n",
       "      <th>fault</th>\n",
       "    </tr>\n",
       "  </thead>\n",
       "  <tbody>\n",
       "    <tr>\n",
       "      <th>0</th>\n",
       "      <td>-0.094593</td>\n",
       "      <td>0.124614</td>\n",
       "      <td>1.108</td>\n",
       "      <td>-0.029991</td>\n",
       "      <td>1.068765</td>\n",
       "      <td>3.113619</td>\n",
       "      <td>normal</td>\n",
       "    </tr>\n",
       "    <tr>\n",
       "      <th>1</th>\n",
       "      <td>-0.094903</td>\n",
       "      <td>0.123811</td>\n",
       "      <td>1.042</td>\n",
       "      <td>-0.070070</td>\n",
       "      <td>1.161145</td>\n",
       "      <td>3.133804</td>\n",
       "      <td>normal</td>\n",
       "    </tr>\n",
       "    <tr>\n",
       "      <th>2</th>\n",
       "      <td>-0.096187</td>\n",
       "      <td>0.125246</td>\n",
       "      <td>0.940</td>\n",
       "      <td>-0.041643</td>\n",
       "      <td>0.985896</td>\n",
       "      <td>2.531011</td>\n",
       "      <td>normal</td>\n",
       "    </tr>\n",
       "    <tr>\n",
       "      <th>3</th>\n",
       "      <td>-0.095613</td>\n",
       "      <td>0.125197</td>\n",
       "      <td>1.055</td>\n",
       "      <td>0.005161</td>\n",
       "      <td>1.033900</td>\n",
       "      <td>3.650234</td>\n",
       "      <td>normal</td>\n",
       "    </tr>\n",
       "    <tr>\n",
       "      <th>4</th>\n",
       "      <td>-0.095133</td>\n",
       "      <td>0.125618</td>\n",
       "      <td>1.011</td>\n",
       "      <td>-0.060191</td>\n",
       "      <td>1.109762</td>\n",
       "      <td>3.088726</td>\n",
       "      <td>normal</td>\n",
       "    </tr>\n",
       "  </tbody>\n",
       "</table>\n",
       "</div>"
      ],
      "text/plain": [
       "       mean       rms  peak_to_peak  skewness  kurtosis  crest_factor   fault\n",
       "0 -0.094593  0.124614         1.108 -0.029991  1.068765      3.113619  normal\n",
       "1 -0.094903  0.123811         1.042 -0.070070  1.161145      3.133804  normal\n",
       "2 -0.096187  0.125246         0.940 -0.041643  0.985896      2.531011  normal\n",
       "3 -0.095613  0.125197         1.055  0.005161  1.033900      3.650234  normal\n",
       "4 -0.095133  0.125618         1.011 -0.060191  1.109762      3.088726  normal"
      ]
     },
     "execution_count": 32,
     "metadata": {},
     "output_type": "execute_result"
    }
   ],
   "source": [
    "features.head()"
   ]
  },
  {
   "cell_type": "code",
   "execution_count": 33,
   "metadata": {},
   "outputs": [],
   "source": [
    "features['fault'] = pd.Categorical(features['fault'])"
   ]
  },
  {
   "cell_type": "code",
   "execution_count": 34,
   "metadata": {},
   "outputs": [
    {
     "data": {
      "text/plain": [
       "roller    2156\n",
       "normal    2156\n",
       "inner     2156\n",
       "outer      984\n",
       "Name: fault, dtype: int64"
      ]
     },
     "execution_count": 34,
     "metadata": {},
     "output_type": "execute_result"
    }
   ],
   "source": [
    "features['fault'].value_counts()"
   ]
  },
  {
   "cell_type": "code",
   "execution_count": 36,
   "metadata": {},
   "outputs": [],
   "source": [
    "features.to_csv('feature_matrix.csv') "
   ]
  },
  {
   "cell_type": "code",
   "execution_count": null,
   "metadata": {},
   "outputs": [],
   "source": []
  }
 ],
 "metadata": {
  "kernelspec": {
   "display_name": "Python 3",
   "language": "python",
   "name": "python3"
  },
  "language_info": {
   "codemirror_mode": {
    "name": "ipython",
    "version": 3
   },
   "file_extension": ".py",
   "mimetype": "text/x-python",
   "name": "python",
   "nbconvert_exporter": "python",
   "pygments_lexer": "ipython3",
   "version": "3.8.5"
  }
 },
 "nbformat": 4,
 "nbformat_minor": 4
}
